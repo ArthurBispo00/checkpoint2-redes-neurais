{
  "nbformat": 4,
  "nbformat_minor": 0,
  "metadata": {
    "colab": {
      "provenance": []
    },
    "kernelspec": {
      "name": "python3",
      "display_name": "Python 3"
    },
    "language_info": {
      "name": "python"
    }
  },
  "cells": [
    {
      "cell_type": "markdown",
      "source": [
        "## Exercício 1 - Classificação"
      ],
      "metadata": {
        "id": "4U2p6hMy9OoS"
      }
    },
    {
      "cell_type": "code",
      "execution_count": 1,
      "metadata": {
        "colab": {
          "base_uri": "https://localhost:8080/"
        },
        "id": "C8nV0MKjflyI",
        "outputId": "1a4ec440-1052-4da1-ba0b-ee30fa2d19d3"
      },
      "outputs": [
        {
          "output_type": "stream",
          "name": "stdout",
          "text": [
            "Bibliotecas importadas com sucesso!\n",
            "Versão do TensorFlow: 2.19.0\n"
          ]
        }
      ],
      "source": [
        "# Importações para manipulação de dados\n",
        "import numpy as np\n",
        "import pandas as pd\n",
        "\n",
        "# Importações do TensorFlow e Keras\n",
        "import tensorflow as tf\n",
        "from tensorflow import keras\n",
        "from keras.models import Sequential\n",
        "from keras.layers import Dense\n",
        "from keras.utils import to_categorical\n",
        "\n",
        "# Importações do Scikit-learn\n",
        "from sklearn.model_selection import train_test_split\n",
        "from sklearn.preprocessing import StandardScaler\n",
        "from sklearn.datasets import load_wine, fetch_california_housing\n",
        "from sklearn.ensemble import RandomForestClassifier, RandomForestRegressor\n",
        "from sklearn.linear_model import LogisticRegression, LinearRegression\n",
        "from sklearn.metrics import accuracy_score, mean_squared_error, mean_absolute_error\n",
        "\n",
        "# Importações para visualização (opcional, mas recomendado)\n",
        "import matplotlib.pyplot as plt\n",
        "import seaborn as sns\n",
        "\n",
        "print(\"Bibliotecas importadas com sucesso!\")\n",
        "print(\"Versão do TensorFlow:\", tf.__version__)"
      ]
    },
    {
      "cell_type": "code",
      "source": [
        "# --- INÍCIO DO EXERCÍCIO 1 ---\n",
        "\n",
        "# --- 1. Definir o caminho do arquivo e os nomes das colunas ---\n",
        "\n",
        "# O arquivo está em '/content/wine.data' pois você fez o upload direto\n",
        "caminho_do_arquivo = '/content/wine.data'\n",
        "\n",
        "# O arquivo .names nos diz quais são as colunas. Vamos criá-las manualmente.\n",
        "# A primeira coluna no arquivo é a classe (o nosso 'y').\n",
        "nomes_colunas = [\n",
        "    'class', 'alcohol', 'malic_acid', 'ash', 'alcalinity_of_ash',\n",
        "    'magnesium', 'total_phenols', 'flavanoids', 'nonflavanoid_phenols',\n",
        "    'proanthocyanins', 'color_intensity', 'hue', 'od280/od315_of_diluted_wines',\n",
        "    'proline'\n",
        "]\n",
        "\n",
        "# --- 2. Ler o arquivo .data usando Pandas ---\n",
        "df_wine = pd.read_csv(caminho_do_arquivo, header=None, names=nomes_colunas)\n",
        "\n",
        "\n",
        "# --- 3. Separar Features (X) e Alvo (y) ---\n",
        "# O alvo 'y' é a coluna 'class'.\n",
        "# As features 'X' são todas as outras colunas.\n",
        "X = df_wine.drop('class', axis=1).values\n",
        "y = df_wine['class'].values\n",
        "\n",
        "# IMPORTANTE: Ajuste para classes 0, 1, 2\n",
        "y = y - 1\n",
        "\n",
        "\n",
        "# --- 4. Explorar os dados (mesma lógica de antes) ---\n",
        "print(\"--- Informações do Dataset de Vinhos (Carregado da Sessão) ---\")\n",
        "print(f\"Formato dos dados (amostras, features): {X.shape}\")\n",
        "print(f\"Formato do alvo (target): {y.shape}\")\n",
        "print(f\"Classes únicas no alvo (após ajuste): {np.unique(y)}\")\n",
        "\n",
        "print(\"\\n--- 5 Primeiras Linhas do DataFrame ---\")\n",
        "print(df_wine.head())"
      ],
      "metadata": {
        "colab": {
          "base_uri": "https://localhost:8080/"
        },
        "id": "JkfKbBwaoTiF",
        "outputId": "303f1f9f-50a3-402d-841d-e1ccf690efc7"
      },
      "execution_count": 2,
      "outputs": [
        {
          "output_type": "stream",
          "name": "stdout",
          "text": [
            "--- Informações do Dataset de Vinhos (Carregado da Sessão) ---\n",
            "Formato dos dados (amostras, features): (178, 13)\n",
            "Formato do alvo (target): (178,)\n",
            "Classes únicas no alvo (após ajuste): [0 1 2]\n",
            "\n",
            "--- 5 Primeiras Linhas do DataFrame ---\n",
            "   class  alcohol  malic_acid   ash  alcalinity_of_ash  magnesium  \\\n",
            "0      1    14.23        1.71  2.43               15.6        127   \n",
            "1      1    13.20        1.78  2.14               11.2        100   \n",
            "2      1    13.16        2.36  2.67               18.6        101   \n",
            "3      1    14.37        1.95  2.50               16.8        113   \n",
            "4      1    13.24        2.59  2.87               21.0        118   \n",
            "\n",
            "   total_phenols  flavanoids  nonflavanoid_phenols  proanthocyanins  \\\n",
            "0           2.80        3.06                  0.28             2.29   \n",
            "1           2.65        2.76                  0.26             1.28   \n",
            "2           2.80        3.24                  0.30             2.81   \n",
            "3           3.85        3.49                  0.24             2.18   \n",
            "4           2.80        2.69                  0.39             1.82   \n",
            "\n",
            "   color_intensity   hue  od280/od315_of_diluted_wines  proline  \n",
            "0             5.64  1.04                          3.92     1065  \n",
            "1             4.38  1.05                          3.40     1050  \n",
            "2             5.68  1.03                          3.17     1185  \n",
            "3             7.80  0.86                          3.45     1480  \n",
            "4             4.32  1.04                          2.93      735  \n"
          ]
        }
      ]
    },
    {
      "cell_type": "code",
      "source": [
        "# --- PASSO 2.2: PRÉ-PROCESSAMENTO DOS DADOS ---\n",
        "\n",
        "# 1. Dividir os dados em conjuntos de treino e teste (80% treino, 20% teste)\n",
        "# Usamos stratify=y para garantir que a proporção de cada classe de vinho\n",
        "# seja a mesma tanto no conjunto de treino quanto no de teste.\n",
        "X_train, X_test, y_train, y_test = train_test_split(\n",
        "    X, y,\n",
        "    test_size=0.2,      # 20% dos dados serão para teste\n",
        "    random_state=42,    # Garante que a divisão seja a mesma sempre que rodarmos\n",
        "    stratify=y\n",
        ")\n",
        "\n",
        "# 2. Padronizar as features (Scaling)\n",
        "# As redes neurais funcionam muito melhor quando os dados de entrada estão na mesma escala.\n",
        "scaler = StandardScaler()\n",
        "\n",
        "# IMPORTANTE: Ajustamos o scaler (fit) APENAS com os dados de TREINO.\n",
        "# Isso evita que o modelo \"saiba\" informações do conjunto de teste antes da hora.\n",
        "X_train_scaled = scaler.fit_transform(X_train)\n",
        "\n",
        "# E então aplicamos a MESMA transformação que ele aprendeu nos dados de TESTE.\n",
        "X_test_scaled = scaler.transform(X_test)\n",
        "\n",
        "\n",
        "# 3. One-Hot Encoding do alvo (y)\n",
        "# Nossa camada de saída terá 3 neurônios (um para cada classe).\n",
        "# A função de perda 'categorical_crossentropy' espera que o alvo esteja nesse formato binário.\n",
        "# Ex: classe 2 -> [0, 0, 1], classe 0 -> [1, 0, 0]\n",
        "y_train_categorical = to_categorical(y_train, num_classes=3)\n",
        "y_test_categorical = to_categorical(y_test, num_classes=3)\n",
        "\n",
        "\n",
        "# --- Verificação Final ---\n",
        "# Vamos conferir os formatos dos nossos dados prontos para o treino.\n",
        "print(\"--- Formatos após o Pré-processamento ---\")\n",
        "print(\"Formato do X de treino padronizado:\", X_train_scaled.shape)\n",
        "print(\"Formato do X de teste padronizado:\", X_test_scaled.shape)\n",
        "print(\"\\nExemplo de y_train original:\", y_train[:5])\n",
        "print(\"Exemplo de y_train em formato categórico (One-Hot Encoded):\\n\", y_train_categorical[:5])\n",
        "print(\"\\nDados prontos para o modelo!\")"
      ],
      "metadata": {
        "colab": {
          "base_uri": "https://localhost:8080/"
        },
        "id": "0QkmEOtRqFuA",
        "outputId": "f51a980b-382e-4ef3-d5c3-87e18f9e637c"
      },
      "execution_count": 3,
      "outputs": [
        {
          "output_type": "stream",
          "name": "stdout",
          "text": [
            "--- Formatos após o Pré-processamento ---\n",
            "Formato do X de treino padronizado: (142, 13)\n",
            "Formato do X de teste padronizado: (36, 13)\n",
            "\n",
            "Exemplo de y_train original: [0 0 0 0 2]\n",
            "Exemplo de y_train em formato categórico (One-Hot Encoded):\n",
            " [[1. 0. 0.]\n",
            " [1. 0. 0.]\n",
            " [1. 0. 0.]\n",
            " [1. 0. 0.]\n",
            " [0. 0. 1.]]\n",
            "\n",
            "Dados prontos para o modelo!\n"
          ]
        }
      ]
    },
    {
      "cell_type": "code",
      "source": [
        "# --- PASSO 2.3: CONSTRUIR, COMPILAR E TREINAR A REDE NEURAL ---\n",
        "\n",
        "# --- 1. Construir o Modelo ---\n",
        "# Usaremos o modelo Sequential, que é uma pilha linear de camadas, perfeito para este caso.\n",
        "model_keras = Sequential()\n",
        "\n",
        "# Camada de Entrada e Primeira Camada Oculta\n",
        "# - Dense: Significa que cada neurônio está conectado a todos os neurônios da camada anterior.\n",
        "# - 32: O número de neurônios na camada, como solicitado.\n",
        "# - activation='relu': Uma função de ativação padrão e muito eficiente.\n",
        "# - input_shape: Informa à primeira camada o formato dos dados de entrada (nossas 13 features).\n",
        "model_keras.add(Dense(32, activation='relu', input_shape=(X_train_scaled.shape[1],)))\n",
        "\n",
        "# Segunda Camada Oculta\n",
        "# Exatamente como a anterior, com 32 neurônios e ativação ReLU.\n",
        "model_keras.add(Dense(32, activation='relu'))\n",
        "\n",
        "# Camada de Saída\n",
        "# - 3 neurônios: Um para cada classe de vinho (0, 1 e 2).\n",
        "# - activation='softmax': Ideal para classificação multiclasse. Ela converte os\n",
        "#   outputs dos neurônios em uma distribuição de probabilidade, onde a soma dá 1.\n",
        "#   (ex: [0.1, 0.8, 0.1], indicando 80% de chance de ser a classe 1).\n",
        "model_keras.add(Dense(3, activation='softmax'))\n",
        "\n",
        "\n",
        "# --- 2. Compilar o Modelo ---\n",
        "# Aqui configuramos o processo de aprendizagem, como solicitado.\n",
        "model_keras.compile(\n",
        "    optimizer='adam',                         # Otimizador que ajusta os pesos da rede. 'Adam' é uma escolha robusta e popular.\n",
        "    loss='categorical_crossentropy',          # Função de perda para classificação multiclasse com labels em one-hot encoding.\n",
        "    metrics=['accuracy']                      # Métrica que queremos monitorar durante o treino.\n",
        ")\n",
        "\n",
        "# Vamos visualizar a arquitetura da nossa rede em formato de tabela.\n",
        "print(\"--- Arquitetura da Rede Neural ---\")\n",
        "model_keras.summary()\n",
        "\n",
        "\n",
        "# --- 3. Treinar o Modelo ---\n",
        "# Agora, alimentamos o modelo com nossos dados de treino.\n",
        "print(\"\\n--- Iniciando o Treinamento da Rede Neural Keras ---\")\n",
        "history = model_keras.fit(\n",
        "    X_train_scaled,                 # Features de treino padronizadas\n",
        "    y_train_categorical,            # Rótulos de treino em formato one-hot\n",
        "    epochs=50,                      # Número de vezes que o modelo verá todo o dataset de treino.\n",
        "    batch_size=32,                  # Número de amostras processadas antes de atualizar os pesos.\n",
        "    validation_data=(X_test_scaled, y_test_categorical), # Dados para validar o modelo a cada época.\n",
        "    verbose=1                       # 0 para silencioso, 1 para barra de progresso\n",
        ")\n",
        "\n",
        "print(\"\\n--- Treinamento Concluído! ---\")"
      ],
      "metadata": {
        "colab": {
          "base_uri": "https://localhost:8080/",
          "height": 1000
        },
        "id": "CTwTSnjgype4",
        "outputId": "fe117eb4-f8a4-439d-d628-914ded2f164a"
      },
      "execution_count": 4,
      "outputs": [
        {
          "output_type": "stream",
          "name": "stderr",
          "text": [
            "/usr/local/lib/python3.12/dist-packages/keras/src/layers/core/dense.py:93: UserWarning: Do not pass an `input_shape`/`input_dim` argument to a layer. When using Sequential models, prefer using an `Input(shape)` object as the first layer in the model instead.\n",
            "  super().__init__(activity_regularizer=activity_regularizer, **kwargs)\n"
          ]
        },
        {
          "output_type": "stream",
          "name": "stdout",
          "text": [
            "--- Arquitetura da Rede Neural ---\n"
          ]
        },
        {
          "output_type": "display_data",
          "data": {
            "text/plain": [
              "\u001b[1mModel: \"sequential\"\u001b[0m\n"
            ],
            "text/html": [
              "<pre style=\"white-space:pre;overflow-x:auto;line-height:normal;font-family:Menlo,'DejaVu Sans Mono',consolas,'Courier New',monospace\"><span style=\"font-weight: bold\">Model: \"sequential\"</span>\n",
              "</pre>\n"
            ]
          },
          "metadata": {}
        },
        {
          "output_type": "display_data",
          "data": {
            "text/plain": [
              "┏━━━━━━━━━━━━━━━━━━━━━━━━━━━━━━━━━┳━━━━━━━━━━━━━━━━━━━━━━━━┳━━━━━━━━━━━━━━━┓\n",
              "┃\u001b[1m \u001b[0m\u001b[1mLayer (type)                   \u001b[0m\u001b[1m \u001b[0m┃\u001b[1m \u001b[0m\u001b[1mOutput Shape          \u001b[0m\u001b[1m \u001b[0m┃\u001b[1m \u001b[0m\u001b[1m      Param #\u001b[0m\u001b[1m \u001b[0m┃\n",
              "┡━━━━━━━━━━━━━━━━━━━━━━━━━━━━━━━━━╇━━━━━━━━━━━━━━━━━━━━━━━━╇━━━━━━━━━━━━━━━┩\n",
              "│ dense (\u001b[38;5;33mDense\u001b[0m)                   │ (\u001b[38;5;45mNone\u001b[0m, \u001b[38;5;34m32\u001b[0m)             │           \u001b[38;5;34m448\u001b[0m │\n",
              "├─────────────────────────────────┼────────────────────────┼───────────────┤\n",
              "│ dense_1 (\u001b[38;5;33mDense\u001b[0m)                 │ (\u001b[38;5;45mNone\u001b[0m, \u001b[38;5;34m32\u001b[0m)             │         \u001b[38;5;34m1,056\u001b[0m │\n",
              "├─────────────────────────────────┼────────────────────────┼───────────────┤\n",
              "│ dense_2 (\u001b[38;5;33mDense\u001b[0m)                 │ (\u001b[38;5;45mNone\u001b[0m, \u001b[38;5;34m3\u001b[0m)              │            \u001b[38;5;34m99\u001b[0m │\n",
              "└─────────────────────────────────┴────────────────────────┴───────────────┘\n"
            ],
            "text/html": [
              "<pre style=\"white-space:pre;overflow-x:auto;line-height:normal;font-family:Menlo,'DejaVu Sans Mono',consolas,'Courier New',monospace\">┏━━━━━━━━━━━━━━━━━━━━━━━━━━━━━━━━━┳━━━━━━━━━━━━━━━━━━━━━━━━┳━━━━━━━━━━━━━━━┓\n",
              "┃<span style=\"font-weight: bold\"> Layer (type)                    </span>┃<span style=\"font-weight: bold\"> Output Shape           </span>┃<span style=\"font-weight: bold\">       Param # </span>┃\n",
              "┡━━━━━━━━━━━━━━━━━━━━━━━━━━━━━━━━━╇━━━━━━━━━━━━━━━━━━━━━━━━╇━━━━━━━━━━━━━━━┩\n",
              "│ dense (<span style=\"color: #0087ff; text-decoration-color: #0087ff\">Dense</span>)                   │ (<span style=\"color: #00d7ff; text-decoration-color: #00d7ff\">None</span>, <span style=\"color: #00af00; text-decoration-color: #00af00\">32</span>)             │           <span style=\"color: #00af00; text-decoration-color: #00af00\">448</span> │\n",
              "├─────────────────────────────────┼────────────────────────┼───────────────┤\n",
              "│ dense_1 (<span style=\"color: #0087ff; text-decoration-color: #0087ff\">Dense</span>)                 │ (<span style=\"color: #00d7ff; text-decoration-color: #00d7ff\">None</span>, <span style=\"color: #00af00; text-decoration-color: #00af00\">32</span>)             │         <span style=\"color: #00af00; text-decoration-color: #00af00\">1,056</span> │\n",
              "├─────────────────────────────────┼────────────────────────┼───────────────┤\n",
              "│ dense_2 (<span style=\"color: #0087ff; text-decoration-color: #0087ff\">Dense</span>)                 │ (<span style=\"color: #00d7ff; text-decoration-color: #00d7ff\">None</span>, <span style=\"color: #00af00; text-decoration-color: #00af00\">3</span>)              │            <span style=\"color: #00af00; text-decoration-color: #00af00\">99</span> │\n",
              "└─────────────────────────────────┴────────────────────────┴───────────────┘\n",
              "</pre>\n"
            ]
          },
          "metadata": {}
        },
        {
          "output_type": "display_data",
          "data": {
            "text/plain": [
              "\u001b[1m Total params: \u001b[0m\u001b[38;5;34m1,603\u001b[0m (6.26 KB)\n"
            ],
            "text/html": [
              "<pre style=\"white-space:pre;overflow-x:auto;line-height:normal;font-family:Menlo,'DejaVu Sans Mono',consolas,'Courier New',monospace\"><span style=\"font-weight: bold\"> Total params: </span><span style=\"color: #00af00; text-decoration-color: #00af00\">1,603</span> (6.26 KB)\n",
              "</pre>\n"
            ]
          },
          "metadata": {}
        },
        {
          "output_type": "display_data",
          "data": {
            "text/plain": [
              "\u001b[1m Trainable params: \u001b[0m\u001b[38;5;34m1,603\u001b[0m (6.26 KB)\n"
            ],
            "text/html": [
              "<pre style=\"white-space:pre;overflow-x:auto;line-height:normal;font-family:Menlo,'DejaVu Sans Mono',consolas,'Courier New',monospace\"><span style=\"font-weight: bold\"> Trainable params: </span><span style=\"color: #00af00; text-decoration-color: #00af00\">1,603</span> (6.26 KB)\n",
              "</pre>\n"
            ]
          },
          "metadata": {}
        },
        {
          "output_type": "display_data",
          "data": {
            "text/plain": [
              "\u001b[1m Non-trainable params: \u001b[0m\u001b[38;5;34m0\u001b[0m (0.00 B)\n"
            ],
            "text/html": [
              "<pre style=\"white-space:pre;overflow-x:auto;line-height:normal;font-family:Menlo,'DejaVu Sans Mono',consolas,'Courier New',monospace\"><span style=\"font-weight: bold\"> Non-trainable params: </span><span style=\"color: #00af00; text-decoration-color: #00af00\">0</span> (0.00 B)\n",
              "</pre>\n"
            ]
          },
          "metadata": {}
        },
        {
          "output_type": "stream",
          "name": "stdout",
          "text": [
            "\n",
            "--- Iniciando o Treinamento da Rede Neural Keras ---\n",
            "Epoch 1/50\n",
            "\u001b[1m5/5\u001b[0m \u001b[32m━━━━━━━━━━━━━━━━━━━━\u001b[0m\u001b[37m\u001b[0m \u001b[1m3s\u001b[0m 226ms/step - accuracy: 0.5641 - loss: 0.9465 - val_accuracy: 0.6944 - val_loss: 0.8792\n",
            "Epoch 2/50\n",
            "\u001b[1m5/5\u001b[0m \u001b[32m━━━━━━━━━━━━━━━━━━━━\u001b[0m\u001b[37m\u001b[0m \u001b[1m0s\u001b[0m 47ms/step - accuracy: 0.6426 - loss: 0.8755 - val_accuracy: 0.6944 - val_loss: 0.7697\n",
            "Epoch 3/50\n",
            "\u001b[1m5/5\u001b[0m \u001b[32m━━━━━━━━━━━━━━━━━━━━\u001b[0m\u001b[37m\u001b[0m \u001b[1m0s\u001b[0m 19ms/step - accuracy: 0.7811 - loss: 0.7461 - val_accuracy: 0.8056 - val_loss: 0.6720\n",
            "Epoch 4/50\n",
            "\u001b[1m5/5\u001b[0m \u001b[32m━━━━━━━━━━━━━━━━━━━━\u001b[0m\u001b[37m\u001b[0m \u001b[1m0s\u001b[0m 20ms/step - accuracy: 0.8924 - loss: 0.6255 - val_accuracy: 0.8889 - val_loss: 0.5839\n",
            "Epoch 5/50\n",
            "\u001b[1m5/5\u001b[0m \u001b[32m━━━━━━━━━━━━━━━━━━━━\u001b[0m\u001b[37m\u001b[0m \u001b[1m0s\u001b[0m 20ms/step - accuracy: 0.9351 - loss: 0.5857 - val_accuracy: 0.9444 - val_loss: 0.5066\n",
            "Epoch 6/50\n",
            "\u001b[1m5/5\u001b[0m \u001b[32m━━━━━━━━━━━━━━━━━━━━\u001b[0m\u001b[37m\u001b[0m \u001b[1m0s\u001b[0m 19ms/step - accuracy: 0.9493 - loss: 0.5135 - val_accuracy: 0.9167 - val_loss: 0.4409\n",
            "Epoch 7/50\n",
            "\u001b[1m5/5\u001b[0m \u001b[32m━━━━━━━━━━━━━━━━━━━━\u001b[0m\u001b[37m\u001b[0m \u001b[1m0s\u001b[0m 18ms/step - accuracy: 0.9586 - loss: 0.4538 - val_accuracy: 0.9722 - val_loss: 0.3834\n",
            "Epoch 8/50\n",
            "\u001b[1m5/5\u001b[0m \u001b[32m━━━━━━━━━━━━━━━━━━━━\u001b[0m\u001b[37m\u001b[0m \u001b[1m0s\u001b[0m 19ms/step - accuracy: 0.9625 - loss: 0.3842 - val_accuracy: 0.9722 - val_loss: 0.3355\n",
            "Epoch 9/50\n",
            "\u001b[1m5/5\u001b[0m \u001b[32m━━━━━━━━━━━━━━━━━━━━\u001b[0m\u001b[37m\u001b[0m \u001b[1m0s\u001b[0m 28ms/step - accuracy: 0.9761 - loss: 0.3349 - val_accuracy: 0.9722 - val_loss: 0.2935\n",
            "Epoch 10/50\n",
            "\u001b[1m5/5\u001b[0m \u001b[32m━━━━━━━━━━━━━━━━━━━━\u001b[0m\u001b[37m\u001b[0m \u001b[1m0s\u001b[0m 21ms/step - accuracy: 0.9706 - loss: 0.2838 - val_accuracy: 0.9722 - val_loss: 0.2582\n",
            "Epoch 11/50\n",
            "\u001b[1m5/5\u001b[0m \u001b[32m━━━━━━━━━━━━━━━━━━━━\u001b[0m\u001b[37m\u001b[0m \u001b[1m0s\u001b[0m 19ms/step - accuracy: 0.9830 - loss: 0.2535 - val_accuracy: 0.9722 - val_loss: 0.2294\n",
            "Epoch 12/50\n",
            "\u001b[1m5/5\u001b[0m \u001b[32m━━━━━━━━━━━━━━━━━━━━\u001b[0m\u001b[37m\u001b[0m \u001b[1m0s\u001b[0m 18ms/step - accuracy: 0.9843 - loss: 0.2203 - val_accuracy: 0.9722 - val_loss: 0.2058\n",
            "Epoch 13/50\n",
            "\u001b[1m5/5\u001b[0m \u001b[32m━━━━━━━━━━━━━━━━━━━━\u001b[0m\u001b[37m\u001b[0m \u001b[1m0s\u001b[0m 20ms/step - accuracy: 0.9778 - loss: 0.2025 - val_accuracy: 0.9722 - val_loss: 0.1855\n",
            "Epoch 14/50\n",
            "\u001b[1m5/5\u001b[0m \u001b[32m━━━━━━━━━━━━━━━━━━━━\u001b[0m\u001b[37m\u001b[0m \u001b[1m0s\u001b[0m 18ms/step - accuracy: 0.9832 - loss: 0.1824 - val_accuracy: 0.9722 - val_loss: 0.1683\n",
            "Epoch 15/50\n",
            "\u001b[1m5/5\u001b[0m \u001b[32m━━━━━━━━━━━━━━━━━━━━\u001b[0m\u001b[37m\u001b[0m \u001b[1m0s\u001b[0m 18ms/step - accuracy: 0.9923 - loss: 0.1507 - val_accuracy: 0.9722 - val_loss: 0.1543\n",
            "Epoch 16/50\n",
            "\u001b[1m5/5\u001b[0m \u001b[32m━━━━━━━━━━━━━━━━━━━━\u001b[0m\u001b[37m\u001b[0m \u001b[1m0s\u001b[0m 18ms/step - accuracy: 0.9832 - loss: 0.1457 - val_accuracy: 0.9722 - val_loss: 0.1431\n",
            "Epoch 17/50\n",
            "\u001b[1m5/5\u001b[0m \u001b[32m━━━━━━━━━━━━━━━━━━━━\u001b[0m\u001b[37m\u001b[0m \u001b[1m0s\u001b[0m 28ms/step - accuracy: 0.9884 - loss: 0.1366 - val_accuracy: 0.9722 - val_loss: 0.1337\n",
            "Epoch 18/50\n",
            "\u001b[1m5/5\u001b[0m \u001b[32m━━━━━━━━━━━━━━━━━━━━\u001b[0m\u001b[37m\u001b[0m \u001b[1m0s\u001b[0m 19ms/step - accuracy: 0.9892 - loss: 0.1243 - val_accuracy: 0.9722 - val_loss: 0.1262\n",
            "Epoch 19/50\n",
            "\u001b[1m5/5\u001b[0m \u001b[32m━━━━━━━━━━━━━━━━━━━━\u001b[0m\u001b[37m\u001b[0m \u001b[1m0s\u001b[0m 18ms/step - accuracy: 0.9920 - loss: 0.1080 - val_accuracy: 0.9722 - val_loss: 0.1205\n",
            "Epoch 20/50\n",
            "\u001b[1m5/5\u001b[0m \u001b[32m━━━━━━━━━━━━━━━━━━━━\u001b[0m\u001b[37m\u001b[0m \u001b[1m0s\u001b[0m 18ms/step - accuracy: 0.9920 - loss: 0.0897 - val_accuracy: 0.9722 - val_loss: 0.1169\n",
            "Epoch 21/50\n",
            "\u001b[1m5/5\u001b[0m \u001b[32m━━━━━━━━━━━━━━━━━━━━\u001b[0m\u001b[37m\u001b[0m \u001b[1m0s\u001b[0m 18ms/step - accuracy: 0.9977 - loss: 0.0845 - val_accuracy: 0.9722 - val_loss: 0.1131\n",
            "Epoch 22/50\n",
            "\u001b[1m5/5\u001b[0m \u001b[32m━━━━━━━━━━━━━━━━━━━━\u001b[0m\u001b[37m\u001b[0m \u001b[1m0s\u001b[0m 18ms/step - accuracy: 1.0000 - loss: 0.0822 - val_accuracy: 0.9722 - val_loss: 0.1102\n",
            "Epoch 23/50\n",
            "\u001b[1m5/5\u001b[0m \u001b[32m━━━━━━━━━━━━━━━━━━━━\u001b[0m\u001b[37m\u001b[0m \u001b[1m0s\u001b[0m 19ms/step - accuracy: 1.0000 - loss: 0.0709 - val_accuracy: 0.9722 - val_loss: 0.1083\n",
            "Epoch 24/50\n",
            "\u001b[1m5/5\u001b[0m \u001b[32m━━━━━━━━━━━━━━━━━━━━\u001b[0m\u001b[37m\u001b[0m \u001b[1m0s\u001b[0m 18ms/step - accuracy: 1.0000 - loss: 0.0711 - val_accuracy: 0.9722 - val_loss: 0.1075\n",
            "Epoch 25/50\n",
            "\u001b[1m5/5\u001b[0m \u001b[32m━━━━━━━━━━━━━━━━━━━━\u001b[0m\u001b[37m\u001b[0m \u001b[1m0s\u001b[0m 28ms/step - accuracy: 1.0000 - loss: 0.0673 - val_accuracy: 0.9444 - val_loss: 0.1065\n",
            "Epoch 26/50\n",
            "\u001b[1m5/5\u001b[0m \u001b[32m━━━━━━━━━━━━━━━━━━━━\u001b[0m\u001b[37m\u001b[0m \u001b[1m0s\u001b[0m 18ms/step - accuracy: 1.0000 - loss: 0.0501 - val_accuracy: 0.9444 - val_loss: 0.1042\n",
            "Epoch 27/50\n",
            "\u001b[1m5/5\u001b[0m \u001b[32m━━━━━━━━━━━━━━━━━━━━\u001b[0m\u001b[37m\u001b[0m \u001b[1m0s\u001b[0m 18ms/step - accuracy: 1.0000 - loss: 0.0496 - val_accuracy: 0.9444 - val_loss: 0.1023\n",
            "Epoch 28/50\n",
            "\u001b[1m5/5\u001b[0m \u001b[32m━━━━━━━━━━━━━━━━━━━━\u001b[0m\u001b[37m\u001b[0m \u001b[1m0s\u001b[0m 19ms/step - accuracy: 1.0000 - loss: 0.0450 - val_accuracy: 0.9444 - val_loss: 0.1013\n",
            "Epoch 29/50\n",
            "\u001b[1m5/5\u001b[0m \u001b[32m━━━━━━━━━━━━━━━━━━━━\u001b[0m\u001b[37m\u001b[0m \u001b[1m0s\u001b[0m 19ms/step - accuracy: 1.0000 - loss: 0.0477 - val_accuracy: 0.9444 - val_loss: 0.1007\n",
            "Epoch 30/50\n",
            "\u001b[1m5/5\u001b[0m \u001b[32m━━━━━━━━━━━━━━━━━━━━\u001b[0m\u001b[37m\u001b[0m \u001b[1m0s\u001b[0m 19ms/step - accuracy: 1.0000 - loss: 0.0375 - val_accuracy: 0.9444 - val_loss: 0.0979\n",
            "Epoch 31/50\n",
            "\u001b[1m5/5\u001b[0m \u001b[32m━━━━━━━━━━━━━━━━━━━━\u001b[0m\u001b[37m\u001b[0m \u001b[1m0s\u001b[0m 19ms/step - accuracy: 1.0000 - loss: 0.0317 - val_accuracy: 0.9444 - val_loss: 0.0961\n",
            "Epoch 32/50\n",
            "\u001b[1m5/5\u001b[0m \u001b[32m━━━━━━━━━━━━━━━━━━━━\u001b[0m\u001b[37m\u001b[0m \u001b[1m0s\u001b[0m 19ms/step - accuracy: 1.0000 - loss: 0.0373 - val_accuracy: 0.9444 - val_loss: 0.0961\n",
            "Epoch 33/50\n",
            "\u001b[1m5/5\u001b[0m \u001b[32m━━━━━━━━━━━━━━━━━━━━\u001b[0m\u001b[37m\u001b[0m \u001b[1m0s\u001b[0m 21ms/step - accuracy: 1.0000 - loss: 0.0318 - val_accuracy: 0.9444 - val_loss: 0.0965\n",
            "Epoch 34/50\n",
            "\u001b[1m5/5\u001b[0m \u001b[32m━━━━━━━━━━━━━━━━━━━━\u001b[0m\u001b[37m\u001b[0m \u001b[1m0s\u001b[0m 19ms/step - accuracy: 1.0000 - loss: 0.0294 - val_accuracy: 0.9444 - val_loss: 0.0970\n",
            "Epoch 35/50\n",
            "\u001b[1m5/5\u001b[0m \u001b[32m━━━━━━━━━━━━━━━━━━━━\u001b[0m\u001b[37m\u001b[0m \u001b[1m0s\u001b[0m 19ms/step - accuracy: 1.0000 - loss: 0.0327 - val_accuracy: 0.9444 - val_loss: 0.0967\n",
            "Epoch 36/50\n",
            "\u001b[1m5/5\u001b[0m \u001b[32m━━━━━━━━━━━━━━━━━━━━\u001b[0m\u001b[37m\u001b[0m \u001b[1m0s\u001b[0m 19ms/step - accuracy: 1.0000 - loss: 0.0286 - val_accuracy: 0.9444 - val_loss: 0.0956\n",
            "Epoch 37/50\n",
            "\u001b[1m5/5\u001b[0m \u001b[32m━━━━━━━━━━━━━━━━━━━━\u001b[0m\u001b[37m\u001b[0m \u001b[1m0s\u001b[0m 19ms/step - accuracy: 1.0000 - loss: 0.0246 - val_accuracy: 0.9444 - val_loss: 0.0961\n",
            "Epoch 38/50\n",
            "\u001b[1m5/5\u001b[0m \u001b[32m━━━━━━━━━━━━━━━━━━━━\u001b[0m\u001b[37m\u001b[0m \u001b[1m0s\u001b[0m 21ms/step - accuracy: 1.0000 - loss: 0.0224 - val_accuracy: 0.9444 - val_loss: 0.0954\n",
            "Epoch 39/50\n",
            "\u001b[1m5/5\u001b[0m \u001b[32m━━━━━━━━━━━━━━━━━━━━\u001b[0m\u001b[37m\u001b[0m \u001b[1m0s\u001b[0m 19ms/step - accuracy: 1.0000 - loss: 0.0213 - val_accuracy: 0.9444 - val_loss: 0.0942\n",
            "Epoch 40/50\n",
            "\u001b[1m5/5\u001b[0m \u001b[32m━━━━━━━━━━━━━━━━━━━━\u001b[0m\u001b[37m\u001b[0m \u001b[1m0s\u001b[0m 20ms/step - accuracy: 1.0000 - loss: 0.0181 - val_accuracy: 0.9444 - val_loss: 0.0929\n",
            "Epoch 41/50\n",
            "\u001b[1m5/5\u001b[0m \u001b[32m━━━━━━━━━━━━━━━━━━━━\u001b[0m\u001b[37m\u001b[0m \u001b[1m0s\u001b[0m 19ms/step - accuracy: 1.0000 - loss: 0.0201 - val_accuracy: 0.9444 - val_loss: 0.0921\n",
            "Epoch 42/50\n",
            "\u001b[1m5/5\u001b[0m \u001b[32m━━━━━━━━━━━━━━━━━━━━\u001b[0m\u001b[37m\u001b[0m \u001b[1m0s\u001b[0m 22ms/step - accuracy: 1.0000 - loss: 0.0146 - val_accuracy: 0.9444 - val_loss: 0.0940\n",
            "Epoch 43/50\n",
            "\u001b[1m5/5\u001b[0m \u001b[32m━━━━━━━━━━━━━━━━━━━━\u001b[0m\u001b[37m\u001b[0m \u001b[1m0s\u001b[0m 18ms/step - accuracy: 1.0000 - loss: 0.0185 - val_accuracy: 0.9444 - val_loss: 0.0954\n",
            "Epoch 44/50\n",
            "\u001b[1m5/5\u001b[0m \u001b[32m━━━━━━━━━━━━━━━━━━━━\u001b[0m\u001b[37m\u001b[0m \u001b[1m0s\u001b[0m 18ms/step - accuracy: 1.0000 - loss: 0.0149 - val_accuracy: 0.9444 - val_loss: 0.0955\n",
            "Epoch 45/50\n",
            "\u001b[1m5/5\u001b[0m \u001b[32m━━━━━━━━━━━━━━━━━━━━\u001b[0m\u001b[37m\u001b[0m \u001b[1m0s\u001b[0m 19ms/step - accuracy: 1.0000 - loss: 0.0162 - val_accuracy: 0.9444 - val_loss: 0.0959\n",
            "Epoch 46/50\n",
            "\u001b[1m5/5\u001b[0m \u001b[32m━━━━━━━━━━━━━━━━━━━━\u001b[0m\u001b[37m\u001b[0m \u001b[1m0s\u001b[0m 19ms/step - accuracy: 1.0000 - loss: 0.0151 - val_accuracy: 0.9444 - val_loss: 0.0948\n",
            "Epoch 47/50\n",
            "\u001b[1m5/5\u001b[0m \u001b[32m━━━━━━━━━━━━━━━━━━━━\u001b[0m\u001b[37m\u001b[0m \u001b[1m0s\u001b[0m 18ms/step - accuracy: 1.0000 - loss: 0.0141 - val_accuracy: 0.9444 - val_loss: 0.0930\n",
            "Epoch 48/50\n",
            "\u001b[1m5/5\u001b[0m \u001b[32m━━━━━━━━━━━━━━━━━━━━\u001b[0m\u001b[37m\u001b[0m \u001b[1m0s\u001b[0m 19ms/step - accuracy: 1.0000 - loss: 0.0117 - val_accuracy: 0.9444 - val_loss: 0.0924\n",
            "Epoch 49/50\n",
            "\u001b[1m5/5\u001b[0m \u001b[32m━━━━━━━━━━━━━━━━━━━━\u001b[0m\u001b[37m\u001b[0m \u001b[1m0s\u001b[0m 18ms/step - accuracy: 1.0000 - loss: 0.0142 - val_accuracy: 0.9444 - val_loss: 0.0915\n",
            "Epoch 50/50\n",
            "\u001b[1m5/5\u001b[0m \u001b[32m━━━━━━━━━━━━━━━━━━━━\u001b[0m\u001b[37m\u001b[0m \u001b[1m0s\u001b[0m 18ms/step - accuracy: 1.0000 - loss: 0.0121 - val_accuracy: 0.9722 - val_loss: 0.0896\n",
            "\n",
            "--- Treinamento Concluído! ---\n"
          ]
        }
      ]
    },
    {
      "cell_type": "code",
      "source": [
        "# --- PASSO 2.4: AVALIAÇÃO E VISUALIZAÇÃO DOS RESULTADOS (KERAS) ---\n",
        "\n",
        "# --- 1. Avaliar o modelo nos dados de teste ---\n",
        "# O método .evaluate retorna a perda (loss) e a métrica (accuracy)\n",
        "# para os dados que passamos como argumento. É a nossa prova final.\n",
        "loss, accuracy = model_keras.evaluate(X_test_scaled, y_test_categorical, verbose=0)\n",
        "\n",
        "print(\"--- Desempenho Final do Modelo Keras ---\")\n",
        "print(f\"Acurácia no conjunto de teste: {accuracy * 100:.2f}%\")\n",
        "print(f\"Perda (Loss) no conjunto de teste: {loss:.4f}\")\n",
        "\n",
        "\n",
        "# --- 2. Visualizar o histórico de treinamento ---\n",
        "# O objeto 'history' que salvamos contém os dados de loss e accuracy de cada época.\n",
        "# Vamos usar o matplotlib para plotar gráficos e entender melhor o treinamento.\n",
        "\n",
        "# Criar um DataFrame a partir do histórico para facilitar a plotagem\n",
        "history_df = pd.DataFrame(history.history)\n",
        "\n",
        "# Definindo o tamanho da figura que conterá os dois gráficos\n",
        "plt.figure(figsize=(14, 6))\n",
        "\n",
        "# Gráfico de Acurácia\n",
        "plt.subplot(1, 2, 1) # (1 linha, 2 colunas, 1º gráfico)\n",
        "plt.plot(history_df['accuracy'], label='Acurácia de Treino', color='blue', linestyle='-')\n",
        "plt.plot(history_df['val_accuracy'], label='Acurácia de Validação', color='orange', linestyle='--')\n",
        "plt.title('Histórico de Acurácia do Modelo')\n",
        "plt.xlabel('Épocas')\n",
        "plt.ylabel('Acurácia')\n",
        "plt.legend()\n",
        "plt.grid(axis='y', linestyle='--', alpha=0.7)\n",
        "\n",
        "# Gráfico de Perda (Loss)\n",
        "plt.subplot(1, 2, 2) # (1 linha, 2 colunas, 2º gráfico)\n",
        "plt.plot(history_df['loss'], label='Perda de Treino', color='blue', linestyle='-')\n",
        "plt.plot(history_df['val_loss'], label='Perda de Validação', color='orange', linestyle='--')\n",
        "plt.title('Histórico de Perda (Loss) do Modelo')\n",
        "plt.xlabel('Épocas')\n",
        "plt.ylabel('Perda')\n",
        "plt.legend()\n",
        "plt.grid(axis='y', linestyle='--', alpha=0.7)\n",
        "\n",
        "plt.tight_layout() # Ajusta o espaçamento para que os títulos não se sobreponham\n",
        "plt.show()"
      ],
      "metadata": {
        "colab": {
          "base_uri": "https://localhost:8080/",
          "height": 659
        },
        "id": "xzrYKrT8zowd",
        "outputId": "f8a687d7-e8dd-4b62-b1c0-9dbeccc2a36f"
      },
      "execution_count": 5,
      "outputs": [
        {
          "output_type": "stream",
          "name": "stdout",
          "text": [
            "--- Desempenho Final do Modelo Keras ---\n",
            "Acurácia no conjunto de teste: 97.22%\n",
            "Perda (Loss) no conjunto de teste: 0.0896\n"
          ]
        },
        {
          "output_type": "display_data",
          "data": {
            "text/plain": [
              "<Figure size 1400x600 with 2 Axes>"
            ],
            "image/png": "[encoded data removed]"
          },
          "metadata": {}
        }
      ]
    },
    {
      "cell_type": "markdown",
      "source": [
        " Modelo Aprendeu com Sucesso: O modelo foi definitivamente capaz de aprender os padrões do dataset. A performance na validação é muito alta (provavelmente acima de 95%), o que indica que é um modelo muito eficaz para esta tarefa.\n",
        "\n",
        "Há Sinais de Leve Overfitting: Overfitting (ou sobreajuste) é o fenômeno que acontece quando um modelo aprende \"bem demais\" os dados de treino, a ponto de começar a decorar o ruído e os detalhes específicos daquele conjunto, em vez de aprender as regras gerais.\n",
        "\n",
        "Evidência 1 (Gráfico de Acurácia): Existe uma \"lacuna\" (um gap) entre a performance perfeita no treino (100%) e a performance, ainda que excelente, na validação (95-98%).\n",
        "\n",
        "Evidência 2 (Gráfico de Perda): A evidência mais forte está aqui. O fato de que a perda de validação parou de diminuir enquanto a perda de treino continuou caindo é o sinal clássico de que o modelo não estava mais aprendendo nada útil para generalizar para novos dados. Ele estava apenas se especializando nos dados de treino."
      ],
      "metadata": {
        "id": "2u4_jk0h0Q99"
      }
    },
    {
      "cell_type": "code",
      "source": [
        "# --- PASSO 2.5: TREINAR E AVALIAR O MODELO SCIKIT-LEARN ---\n",
        "\n",
        "# --- 1. Criar o modelo RandomForestClassifier ---\n",
        "# n_estimators: o número de \"árvores de decisão\" que o modelo vai criar. 100 é um bom valor padrão.\n",
        "# random_state=42: garante que o resultado seja o mesmo toda vez que rodarmos.\n",
        "rf_model = RandomForestClassifier(n_estimators=100, random_state=42)\n",
        "\n",
        "\n",
        "# --- 2. Treinar o modelo ---\n",
        "# IMPORTANTE: Note que usamos os dados originais, NÃO os padronizados (scaled).\n",
        "# E usamos y_train, NÃO o y_train_categorical.\n",
        "print(\"--- Iniciando o Treinamento do RandomForestClassifier ---\")\n",
        "rf_model.fit(X_train, y_train)\n",
        "print(\"--- Treinamento Concluído! ---\")\n",
        "\n",
        "\n",
        "# --- 3. Fazer previsões no conjunto de teste ---\n",
        "y_pred_rf = rf_model.predict(X_test)\n",
        "\n",
        "\n",
        "# --- 4. Avaliar a acurácia ---\n",
        "accuracy_rf = accuracy_score(y_test, y_pred_rf)\n",
        "\n",
        "print(\"\\n--- Desempenho Final do Modelo RandomForest ---\")\n",
        "print(f\"Acurácia no conjunto de teste: {accuracy_rf * 100:.2f}%\")"
      ],
      "metadata": {
        "colab": {
          "base_uri": "https://localhost:8080/"
        },
        "id": "r3Yq3Xlp0Qt6",
        "outputId": "7fbdd88e-c07c-43bb-ca57-b9630c577908"
      },
      "execution_count": 6,
      "outputs": [
        {
          "output_type": "stream",
          "name": "stdout",
          "text": [
            "--- Iniciando o Treinamento do RandomForestClassifier ---\n",
            "--- Treinamento Concluído! ---\n",
            "\n",
            "--- Desempenho Final do Modelo RandomForest ---\n",
            "Acurácia no conjunto de teste: 100.00%\n"
          ]
        }
      ]
    },
    {
      "cell_type": "markdown",
      "source": [
        "##Discussão dos Resultados (Exercício 1)\n",
        "\n",
        "Para a tarefa de classificação do Wine Dataset, tanto a Rede Neural construída com Keras quanto o modelo RandomForestClassifier do Scikit-learn alcançaram uma acurácia perfeita de 100.00% no conjunto de teste.\n",
        "\n",
        "Apesar do desempenho idêntico na métrica final, a análise do processo revela diferenças importantes. O RandomForestClassifier se mostrou uma solução mais simples e direta, exigindo menos pré-processamento dos dados e um tempo de treinamento significativamente menor.\n",
        "\n",
        "Por outro lado, a Rede Neural, embora igualmente eficaz, demandou uma implementação mais complexa, incluindo a padronização dos dados e a codificação one-hot dos rótulos. A análise do histórico de treinamento também indicou um leve sinal de overfitting, onde o modelo se ajustou perfeitamente aos dados de treino em detrimento da generalização, um risco que precisa ser monitorado em arquiteturas de deep learning.\n",
        "\n",
        "Conclusão: Para este dataset tabular específico, o RandomForestClassifier foi o modelo superior em termos de simplicidade e eficiência, entregando o mesmo resultado de ponta com menos esforço de implementação e sem os mesmos riscos de sobreajuste observados na rede neural.\n",
        "\n"
      ],
      "metadata": {
        "id": "42hr9MJP1bzq"
      }
    },
    {
      "cell_type": "markdown",
      "source": [
        "## Exercício 2 - Regressão"
      ],
      "metadata": {
        "id": "9yx0ka-A8gtr"
      }
    },
    {
      "cell_type": "code",
      "source": [
        "# --- INÍCIO DO EXERCÍCIO 2 ---\n",
        "\n",
        "# --- PASSO 3.1 ---\n",
        "\n",
        "# 1. Definir o caminho do arquivo e os nomes das colunas\n",
        "caminho_do_arquivo_housing = '/content/cal_housing.data'\n",
        "\n",
        "# Os nomes das colunas para este dataset são 8 features e 1 coluna alvo.\n",
        "# A ordem é importante e a última coluna ('MedHouseVal') é o nosso alvo 'y'.\n",
        "nomes_colunas_housing = [\n",
        "    'MedInc', 'HouseAge', 'AveRooms', 'AveBedrms', 'Population',\n",
        "    'AveOccup', 'Latitude', 'Longitude', 'MedHouseVal'\n",
        "]\n",
        "\n",
        "# 2. Ler o arquivo .data, que é um CSV sem cabeçalho, usando Pandas\n",
        "df_housing = pd.read_csv(\n",
        "    caminho_do_arquivo_housing,\n",
        "    header=None,\n",
        "    names=nomes_colunas_housing\n",
        ")\n",
        "\n",
        "# 3. Separar as Features (X) do Alvo (y)\n",
        "X_housing = df_housing.drop('MedHouseVal', axis=1).values\n",
        "y_housing = df_housing['MedHouseVal'].values\n",
        "\n",
        "# 4. Explorar os dados (a lógica daqui para baixo é a mesma)\n",
        "print(\"--- Informações do Dataset California Housing (Carregado do Arquivo) ---\")\n",
        "print(f\"Formato dos dados (amostras, features): {X_housing.shape}\")\n",
        "print(f\"Formato do alvo (target): {y_housing.shape}\")\n",
        "\n",
        "print(\"\\n--- 5 Primeiras Linhas do DataFrame ---\")\n",
        "print(df_housing.head())\n",
        "\n",
        "print(\"\\n--- Resumo Estatístico dos Dados ---\")\n",
        "print(df_housing.describe())"
      ],
      "metadata": {
        "colab": {
          "base_uri": "https://localhost:8080/"
        },
        "id": "c93dtMm32f_w",
        "outputId": "67c3f6e0-172d-4218-b478-27558440549e"
      },
      "execution_count": 7,
      "outputs": [
        {
          "output_type": "stream",
          "name": "stdout",
          "text": [
            "--- Informações do Dataset California Housing (Carregado do Arquivo) ---\n",
            "Formato dos dados (amostras, features): (20640, 8)\n",
            "Formato do alvo (target): (20640,)\n",
            "\n",
            "--- 5 Primeiras Linhas do DataFrame ---\n",
            "   MedInc  HouseAge  AveRooms  AveBedrms  Population  AveOccup  Latitude  \\\n",
            "0 -122.23     37.88      41.0      880.0       129.0     322.0     126.0   \n",
            "1 -122.22     37.86      21.0     7099.0      1106.0    2401.0    1138.0   \n",
            "2 -122.24     37.85      52.0     1467.0       190.0     496.0     177.0   \n",
            "3 -122.25     37.85      52.0     1274.0       235.0     558.0     219.0   \n",
            "4 -122.25     37.85      52.0     1627.0       280.0     565.0     259.0   \n",
            "\n",
            "   Longitude  MedHouseVal  \n",
            "0     8.3252     452600.0  \n",
            "1     8.3014     358500.0  \n",
            "2     7.2574     352100.0  \n",
            "3     5.6431     341300.0  \n",
            "4     3.8462     342200.0  \n",
            "\n",
            "--- Resumo Estatístico dos Dados ---\n",
            "             MedInc      HouseAge      AveRooms     AveBedrms    Population  \\\n",
            "count  20640.000000  20640.000000  20640.000000  20640.000000  20640.000000   \n",
            "mean    -119.569704     35.631861     28.639486   2635.763081    537.898014   \n",
            "std        2.003532      2.135952     12.585558   2181.615252    421.247906   \n",
            "min     -124.350000     32.540000      1.000000      2.000000      1.000000   \n",
            "25%     -121.800000     33.930000     18.000000   1447.750000    295.000000   \n",
            "50%     -118.490000     34.260000     29.000000   2127.000000    435.000000   \n",
            "75%     -118.010000     37.710000     37.000000   3148.000000    647.000000   \n",
            "max     -114.310000     41.950000     52.000000  39320.000000   6445.000000   \n",
            "\n",
            "           AveOccup      Latitude     Longitude    MedHouseVal  \n",
            "count  20640.000000  20640.000000  20640.000000   20640.000000  \n",
            "mean    1425.476744    499.539680      3.870671  206855.816909  \n",
            "std     1132.462122    382.329753      1.899822  115395.615874  \n",
            "min        3.000000      1.000000      0.499900   14999.000000  \n",
            "25%      787.000000    280.000000      2.563400  119600.000000  \n",
            "50%     1166.000000    409.000000      3.534800  179700.000000  \n",
            "75%     1725.000000    605.000000      4.743250  264725.000000  \n",
            "max    35682.000000   6082.000000     15.000100  500001.000000  \n"
          ]
        }
      ]
    },
    {
      "cell_type": "code",
      "source": [
        "# --- PASSO 3.2: PRÉ-PROCESSAMENTO DOS DADOS (REGRESSÃO) ---\n",
        "\n",
        "# Para evitar conflitos com as variáveis do Exercício 1,\n",
        "# vamos adicionar um '_h' (de housing) no final das novas variáveis.\n",
        "\n",
        "# 1. Dividir os dados em conjuntos de treino e teste\n",
        "# Desta vez não usamos 'stratify', pois é um problema de regressão e não temos classes fixas.\n",
        "X_train_h, X_test_h, y_train_h, y_test_h = train_test_split(\n",
        "    X_housing, y_housing,\n",
        "    test_size=0.2,\n",
        "    random_state=42\n",
        ")\n",
        "\n",
        "# 2. Padronizar as features (X)\n",
        "# A mesma lógica do exercício anterior. Essencial para redes neurais.\n",
        "scaler_h = StandardScaler()\n",
        "X_train_h_scaled = scaler_h.fit_transform(X_train_h)\n",
        "X_test_h_scaled = scaler_h.transform(X_test_h)\n",
        "\n",
        "\n",
        "# 3. VERIFICAÇÃO (NÃO HÁ ONE-HOT ENCODING EM 'y')\n",
        "# O nosso 'y' (y_train_h e y_test_h) já está no formato numérico correto para regressão.\n",
        "\n",
        "\n",
        "# --- Verificação Final dos Formatos ---\n",
        "print(\"--- Formatos após o Pré-processamento ---\")\n",
        "print(\"Formato do X de treino padronizado:\", X_train_h_scaled.shape)\n",
        "print(\"Formato do y de treino:\", y_train_h.shape)\n",
        "print(\"Formato do X de teste padronizado:\", X_test_h_scaled.shape)\n",
        "print(\"Formato do y de teste:\", y_test_h.shape)\n",
        "\n",
        "print(\"\\nDados prontos para o modelo de regressão!\")"
      ],
      "metadata": {
        "colab": {
          "base_uri": "https://localhost:8080/"
        },
        "id": "OGTrORGW3Db2",
        "outputId": "8d8e843a-40ac-40fb-d3e5-554670a90a0c"
      },
      "execution_count": 8,
      "outputs": [
        {
          "output_type": "stream",
          "name": "stdout",
          "text": [
            "--- Formatos após o Pré-processamento ---\n",
            "Formato do X de treino padronizado: (16512, 8)\n",
            "Formato do y de treino: (16512,)\n",
            "Formato do X de teste padronizado: (4128, 8)\n",
            "Formato do y de teste: (4128,)\n",
            "\n",
            "Dados prontos para o modelo de regressão!\n"
          ]
        }
      ]
    },
    {
      "cell_type": "code",
      "source": [
        "# --- PASSO 3.3: CONSTRUIR, COMPILAR E TREINAR A REDE NEURAL (REGRESSÃO) ---\n",
        "\n",
        "# --- 1. Construir o Modelo ---\n",
        "# A arquitetura segue as especificações do exercício.\n",
        "model_keras_h = Sequential()\n",
        "\n",
        "# Camada de Entrada e Primeira Camada Oculta (64 neurônios)\n",
        "model_keras_h.add(Dense(64, activation='relu', input_shape=(X_train_h_scaled.shape[1],)))\n",
        "\n",
        "# Segunda Camada Oculta (32 neurônios)\n",
        "model_keras_h.add(Dense(32, activation='relu'))\n",
        "\n",
        "# Terceira Camada Oculta (16 neurônios)\n",
        "model_keras_h.add(Dense(16, activation='relu'))\n",
        "\n",
        "# Camada de Saída\n",
        "# - 1 neurônio: porque estamos prevendo um único valor (o preço da casa).\n",
        "# - activation='linear': A saída não é transformada. Ela pode ser qualquer valor real,\n",
        "#   o que é exatamente o que queremos para um problema de regressão.\n",
        "model_keras_h.add(Dense(1, activation='linear'))\n",
        "\n",
        "\n",
        "# --- 2. Compilar o Modelo ---\n",
        "# O otimizador e a função de perda também seguem as especificações.\n",
        "model_keras_h.compile(\n",
        "    optimizer='adam',\n",
        "    loss='mse',      # Mean Squared Error (Erro Quadrático Médio) -> Padrão para regressão.\n",
        "    metrics=['mae']  # Mean Absolute Error (Erro Médio Absoluto) -> Adicionamos para ter uma métrica mais fácil de interpretar.\n",
        ")\n",
        "\n",
        "# Visualizar a arquitetura da rede\n",
        "print(\"--- Arquitetura da Rede Neural de Regressão ---\")\n",
        "model_keras_h.summary()\n",
        "\n",
        "\n",
        "# --- 3. Treinar o Modelo ---\n",
        "print(\"\\n--- Iniciando o Treinamento da Rede Neural Keras (Regressão) ---\")\n",
        "history_h = model_keras_h.fit(\n",
        "    X_train_h_scaled,\n",
        "    y_train_h,\n",
        "    epochs=50,\n",
        "    batch_size=32,\n",
        "    validation_data=(X_test_h_scaled, y_test_h),\n",
        "    verbose=1\n",
        ")\n",
        "\n",
        "print(\"\\n--- Treinamento Concluído! ---\")"
      ],
      "metadata": {
        "colab": {
          "base_uri": "https://localhost:8080/",
          "height": 1000
        },
        "id": "x72Oet0a4I3q",
        "outputId": "70aa8bb5-60d9-44ae-911c-36884f506c2e"
      },
      "execution_count": 9,
      "outputs": [
        {
          "output_type": "stream",
          "name": "stdout",
          "text": [
            "--- Arquitetura da Rede Neural de Regressão ---\n"
          ]
        },
        {
          "output_type": "stream",
          "name": "stderr",
          "text": [
            "/usr/local/lib/python3.12/dist-packages/keras/src/layers/core/dense.py:93: UserWarning: Do not pass an `input_shape`/`input_dim` argument to a layer. When using Sequential models, prefer using an `Input(shape)` object as the first layer in the model instead.\n",
            "  super().__init__(activity_regularizer=activity_regularizer, **kwargs)\n"
          ]
        },
        {
          "output_type": "display_data",
          "data": {
            "text/plain": [
              "\u001b[1mModel: \"sequential_1\"\u001b[0m\n"
            ],
            "text/html": [
              "<pre style=\"white-space:pre;overflow-x:auto;line-height:normal;font-family:Menlo,'DejaVu Sans Mono',consolas,'Courier New',monospace\"><span style=\"font-weight: bold\">Model: \"sequential_1\"</span>\n",
              "</pre>\n"
            ]
          },
          "metadata": {}
        },
        {
          "output_type": "display_data",
          "data": {
            "text/plain": [
              "┏━━━━━━━━━━━━━━━━━━━━━━━━━━━━━━━━━┳━━━━━━━━━━━━━━━━━━━━━━━━┳━━━━━━━━━━━━━━━┓\n",
              "┃\u001b[1m \u001b[0m\u001b[1mLayer (type)                   \u001b[0m\u001b[1m \u001b[0m┃\u001b[1m \u001b[0m\u001b[1mOutput Shape          \u001b[0m\u001b[1m \u001b[0m┃\u001b[1m \u001b[0m\u001b[1m      Param #\u001b[0m\u001b[1m \u001b[0m┃\n",
              "┡━━━━━━━━━━━━━━━━━━━━━━━━━━━━━━━━━╇━━━━━━━━━━━━━━━━━━━━━━━━╇━━━━━━━━━━━━━━━┩\n",
              "│ dense_3 (\u001b[38;5;33mDense\u001b[0m)                 │ (\u001b[38;5;45mNone\u001b[0m, \u001b[38;5;34m64\u001b[0m)             │           \u001b[38;5;34m576\u001b[0m │\n",
              "├─────────────────────────────────┼────────────────────────┼───────────────┤\n",
              "│ dense_4 (\u001b[38;5;33mDense\u001b[0m)                 │ (\u001b[38;5;45mNone\u001b[0m, \u001b[38;5;34m32\u001b[0m)             │         \u001b[38;5;34m2,080\u001b[0m │\n",
              "├─────────────────────────────────┼────────────────────────┼───────────────┤\n",
              "│ dense_5 (\u001b[38;5;33mDense\u001b[0m)                 │ (\u001b[38;5;45mNone\u001b[0m, \u001b[38;5;34m16\u001b[0m)             │           \u001b[38;5;34m528\u001b[0m │\n",
              "├─────────────────────────────────┼────────────────────────┼───────────────┤\n",
              "│ dense_6 (\u001b[38;5;33mDense\u001b[0m)                 │ (\u001b[38;5;45mNone\u001b[0m, \u001b[38;5;34m1\u001b[0m)              │            \u001b[38;5;34m17\u001b[0m │\n",
              "└─────────────────────────────────┴────────────────────────┴───────────────┘\n"
            ],
            "text/html": [
              "<pre style=\"white-space:pre;overflow-x:auto;line-height:normal;font-family:Menlo,'DejaVu Sans Mono',consolas,'Courier New',monospace\">┏━━━━━━━━━━━━━━━━━━━━━━━━━━━━━━━━━┳━━━━━━━━━━━━━━━━━━━━━━━━┳━━━━━━━━━━━━━━━┓\n",
              "┃<span style=\"font-weight: bold\"> Layer (type)                    </span>┃<span style=\"font-weight: bold\"> Output Shape           </span>┃<span style=\"font-weight: bold\">       Param # </span>┃\n",
              "┡━━━━━━━━━━━━━━━━━━━━━━━━━━━━━━━━━╇━━━━━━━━━━━━━━━━━━━━━━━━╇━━━━━━━━━━━━━━━┩\n",
              "│ dense_3 (<span style=\"color: #0087ff; text-decoration-color: #0087ff\">Dense</span>)                 │ (<span style=\"color: #00d7ff; text-decoration-color: #00d7ff\">None</span>, <span style=\"color: #00af00; text-decoration-color: #00af00\">64</span>)             │           <span style=\"color: #00af00; text-decoration-color: #00af00\">576</span> │\n",
              "├─────────────────────────────────┼────────────────────────┼───────────────┤\n",
              "│ dense_4 (<span style=\"color: #0087ff; text-decoration-color: #0087ff\">Dense</span>)                 │ (<span style=\"color: #00d7ff; text-decoration-color: #00d7ff\">None</span>, <span style=\"color: #00af00; text-decoration-color: #00af00\">32</span>)             │         <span style=\"color: #00af00; text-decoration-color: #00af00\">2,080</span> │\n",
              "├─────────────────────────────────┼────────────────────────┼───────────────┤\n",
              "│ dense_5 (<span style=\"color: #0087ff; text-decoration-color: #0087ff\">Dense</span>)                 │ (<span style=\"color: #00d7ff; text-decoration-color: #00d7ff\">None</span>, <span style=\"color: #00af00; text-decoration-color: #00af00\">16</span>)             │           <span style=\"color: #00af00; text-decoration-color: #00af00\">528</span> │\n",
              "├─────────────────────────────────┼────────────────────────┼───────────────┤\n",
              "│ dense_6 (<span style=\"color: #0087ff; text-decoration-color: #0087ff\">Dense</span>)                 │ (<span style=\"color: #00d7ff; text-decoration-color: #00d7ff\">None</span>, <span style=\"color: #00af00; text-decoration-color: #00af00\">1</span>)              │            <span style=\"color: #00af00; text-decoration-color: #00af00\">17</span> │\n",
              "└─────────────────────────────────┴────────────────────────┴───────────────┘\n",
              "</pre>\n"
            ]
          },
          "metadata": {}
        },
        {
          "output_type": "display_data",
          "data": {
            "text/plain": [
              "\u001b[1m Total params: \u001b[0m\u001b[38;5;34m3,201\u001b[0m (12.50 KB)\n"
            ],
            "text/html": [
              "<pre style=\"white-space:pre;overflow-x:auto;line-height:normal;font-family:Menlo,'DejaVu Sans Mono',consolas,'Courier New',monospace\"><span style=\"font-weight: bold\"> Total params: </span><span style=\"color: #00af00; text-decoration-color: #00af00\">3,201</span> (12.50 KB)\n",
              "</pre>\n"
            ]
          },
          "metadata": {}
        },
        {
          "output_type": "display_data",
          "data": {
            "text/plain": [
              "\u001b[1m Trainable params: \u001b[0m\u001b[38;5;34m3,201\u001b[0m (12.50 KB)\n"
            ],
            "text/html": [
              "<pre style=\"white-space:pre;overflow-x:auto;line-height:normal;font-family:Menlo,'DejaVu Sans Mono',consolas,'Courier New',monospace\"><span style=\"font-weight: bold\"> Trainable params: </span><span style=\"color: #00af00; text-decoration-color: #00af00\">3,201</span> (12.50 KB)\n",
              "</pre>\n"
            ]
          },
          "metadata": {}
        },
        {
          "output_type": "display_data",
          "data": {
            "text/plain": [
              "\u001b[1m Non-trainable params: \u001b[0m\u001b[38;5;34m0\u001b[0m (0.00 B)\n"
            ],
            "text/html": [
              "<pre style=\"white-space:pre;overflow-x:auto;line-height:normal;font-family:Menlo,'DejaVu Sans Mono',consolas,'Courier New',monospace\"><span style=\"font-weight: bold\"> Non-trainable params: </span><span style=\"color: #00af00; text-decoration-color: #00af00\">0</span> (0.00 B)\n",
              "</pre>\n"
            ]
          },
          "metadata": {}
        },
        {
          "output_type": "stream",
          "name": "stdout",
          "text": [
            "\n",
            "--- Iniciando o Treinamento da Rede Neural Keras (Regressão) ---\n",
            "Epoch 1/50\n",
            "\u001b[1m516/516\u001b[0m \u001b[32m━━━━━━━━━━━━━━━━━━━━\u001b[0m\u001b[37m\u001b[0m \u001b[1m3s\u001b[0m 3ms/step - loss: 55240396800.0000 - mae: 204990.5000 - val_loss: 36582363136.0000 - val_mae: 158143.5469\n",
            "Epoch 2/50\n",
            "\u001b[1m516/516\u001b[0m \u001b[32m━━━━━━━━━━━━━━━━━━━━\u001b[0m\u001b[37m\u001b[0m \u001b[1m2s\u001b[0m 3ms/step - loss: 25715660800.0000 - mae: 124906.5391 - val_loss: 11922493440.0000 - val_mae: 79529.1797\n",
            "Epoch 3/50\n",
            "\u001b[1m516/516\u001b[0m \u001b[32m━━━━━━━━━━━━━━━━━━━━\u001b[0m\u001b[37m\u001b[0m \u001b[1m1s\u001b[0m 2ms/step - loss: 11393986560.0000 - mae: 76966.3047 - val_loss: 9173327872.0000 - val_mae: 68802.3125\n",
            "Epoch 4/50\n",
            "\u001b[1m516/516\u001b[0m \u001b[32m━━━━━━━━━━━━━━━━━━━━\u001b[0m\u001b[37m\u001b[0m \u001b[1m1s\u001b[0m 2ms/step - loss: 8732660736.0000 - mae: 66137.4531 - val_loss: 7499119616.0000 - val_mae: 62444.6289\n",
            "Epoch 5/50\n",
            "\u001b[1m516/516\u001b[0m \u001b[32m━━━━━━━━━━━━━━━━━━━━\u001b[0m\u001b[37m\u001b[0m \u001b[1m1s\u001b[0m 2ms/step - loss: 7007202816.0000 - mae: 59958.5469 - val_loss: 6431527424.0000 - val_mae: 58254.2461\n",
            "Epoch 6/50\n",
            "\u001b[1m516/516\u001b[0m \u001b[32m━━━━━━━━━━━━━━━━━━━━\u001b[0m\u001b[37m\u001b[0m \u001b[1m2s\u001b[0m 3ms/step - loss: 6194167808.0000 - mae: 57022.3203 - val_loss: 5774099968.0000 - val_mae: 55215.1875\n",
            "Epoch 7/50\n",
            "\u001b[1m516/516\u001b[0m \u001b[32m━━━━━━━━━━━━━━━━━━━━\u001b[0m\u001b[37m\u001b[0m \u001b[1m2s\u001b[0m 3ms/step - loss: 5548133888.0000 - mae: 53974.0820 - val_loss: 5357068800.0000 - val_mae: 53228.0508\n",
            "Epoch 8/50\n",
            "\u001b[1m516/516\u001b[0m \u001b[32m━━━━━━━━━━━━━━━━━━━━\u001b[0m\u001b[37m\u001b[0m \u001b[1m1s\u001b[0m 3ms/step - loss: 5176326144.0000 - mae: 52402.1641 - val_loss: 5092899840.0000 - val_mae: 51968.5508\n",
            "Epoch 9/50\n",
            "\u001b[1m516/516\u001b[0m \u001b[32m━━━━━━━━━━━━━━━━━━━━\u001b[0m\u001b[37m\u001b[0m \u001b[1m3s\u001b[0m 3ms/step - loss: 5022283264.0000 - mae: 51347.9844 - val_loss: 4936466432.0000 - val_mae: 51471.5586\n",
            "Epoch 10/50\n",
            "\u001b[1m516/516\u001b[0m \u001b[32m━━━━━━━━━━━━━━━━━━━━\u001b[0m\u001b[37m\u001b[0m \u001b[1m1s\u001b[0m 3ms/step - loss: 4729586176.0000 - mae: 50015.4453 - val_loss: 4815006720.0000 - val_mae: 50272.1016\n",
            "Epoch 11/50\n",
            "\u001b[1m516/516\u001b[0m \u001b[32m━━━━━━━━━━━━━━━━━━━━\u001b[0m\u001b[37m\u001b[0m \u001b[1m1s\u001b[0m 3ms/step - loss: 4619596800.0000 - mae: 49397.2812 - val_loss: 4744151040.0000 - val_mae: 50062.1875\n",
            "Epoch 12/50\n",
            "\u001b[1m516/516\u001b[0m \u001b[32m━━━━━━━━━━━━━━━━━━━━\u001b[0m\u001b[37m\u001b[0m \u001b[1m3s\u001b[0m 3ms/step - loss: 4713765376.0000 - mae: 49370.1328 - val_loss: 4693699072.0000 - val_mae: 49820.4883\n",
            "Epoch 13/50\n",
            "\u001b[1m516/516\u001b[0m \u001b[32m━━━━━━━━━━━━━━━━━━━━\u001b[0m\u001b[37m\u001b[0m \u001b[1m2s\u001b[0m 3ms/step - loss: 4482111488.0000 - mae: 48545.6172 - val_loss: 4665618432.0000 - val_mae: 48839.3281\n",
            "Epoch 14/50\n",
            "\u001b[1m516/516\u001b[0m \u001b[32m━━━━━━━━━━━━━━━━━━━━\u001b[0m\u001b[37m\u001b[0m \u001b[1m1s\u001b[0m 2ms/step - loss: 4459788288.0000 - mae: 48159.3945 - val_loss: 4617969152.0000 - val_mae: 49085.8906\n",
            "Epoch 15/50\n",
            "\u001b[1m516/516\u001b[0m \u001b[32m━━━━━━━━━━━━━━━━━━━━\u001b[0m\u001b[37m\u001b[0m \u001b[1m3s\u001b[0m 3ms/step - loss: 4434664960.0000 - mae: 48301.6523 - val_loss: 4588434432.0000 - val_mae: 48682.0469\n",
            "Epoch 16/50\n",
            "\u001b[1m516/516\u001b[0m \u001b[32m━━━━━━━━━━━━━━━━━━━━\u001b[0m\u001b[37m\u001b[0m \u001b[1m1s\u001b[0m 3ms/step - loss: 4346475008.0000 - mae: 47334.0547 - val_loss: 4568072192.0000 - val_mae: 48604.7422\n",
            "Epoch 17/50\n",
            "\u001b[1m516/516\u001b[0m \u001b[32m━━━━━━━━━━━━━━━━━━━━\u001b[0m\u001b[37m\u001b[0m \u001b[1m2s\u001b[0m 2ms/step - loss: 4387788288.0000 - mae: 47474.3945 - val_loss: 4553096704.0000 - val_mae: 48514.4492\n",
            "Epoch 18/50\n",
            "\u001b[1m516/516\u001b[0m \u001b[32m━━━━━━━━━━━━━━━━━━━━\u001b[0m\u001b[37m\u001b[0m \u001b[1m3s\u001b[0m 4ms/step - loss: 4475366400.0000 - mae: 48210.4883 - val_loss: 4535081472.0000 - val_mae: 48381.4688\n",
            "Epoch 19/50\n",
            "\u001b[1m516/516\u001b[0m \u001b[32m━━━━━━━━━━━━━━━━━━━━\u001b[0m\u001b[37m\u001b[0m \u001b[1m2s\u001b[0m 3ms/step - loss: 4505152512.0000 - mae: 48315.0469 - val_loss: 4528202752.0000 - val_mae: 48048.7461\n",
            "Epoch 20/50\n",
            "\u001b[1m516/516\u001b[0m \u001b[32m━━━━━━━━━━━━━━━━━━━━\u001b[0m\u001b[37m\u001b[0m \u001b[1m2s\u001b[0m 2ms/step - loss: 4430156800.0000 - mae: 47408.3945 - val_loss: 4505189888.0000 - val_mae: 47937.9180\n",
            "Epoch 21/50\n",
            "\u001b[1m516/516\u001b[0m \u001b[32m━━━━━━━━━━━━━━━━━━━━\u001b[0m\u001b[37m\u001b[0m \u001b[1m1s\u001b[0m 2ms/step - loss: 4305853952.0000 - mae: 46738.8320 - val_loss: 4491316736.0000 - val_mae: 48092.0352\n",
            "Epoch 22/50\n",
            "\u001b[1m516/516\u001b[0m \u001b[32m━━━━━━━━━━━━━━━━━━━━\u001b[0m\u001b[37m\u001b[0m \u001b[1m1s\u001b[0m 2ms/step - loss: 4320178176.0000 - mae: 47123.8711 - val_loss: 4481422848.0000 - val_mae: 48156.2891\n",
            "Epoch 23/50\n",
            "\u001b[1m516/516\u001b[0m \u001b[32m━━━━━━━━━━━━━━━━━━━━\u001b[0m\u001b[37m\u001b[0m \u001b[1m1s\u001b[0m 2ms/step - loss: 4282988800.0000 - mae: 46795.1797 - val_loss: 4473862656.0000 - val_mae: 47783.5859\n",
            "Epoch 24/50\n",
            "\u001b[1m516/516\u001b[0m \u001b[32m━━━━━━━━━━━━━━━━━━━━\u001b[0m\u001b[37m\u001b[0m \u001b[1m1s\u001b[0m 3ms/step - loss: 4233419008.0000 - mae: 46523.3555 - val_loss: 4465634816.0000 - val_mae: 47686.9492\n",
            "Epoch 25/50\n",
            "\u001b[1m516/516\u001b[0m \u001b[32m━━━━━━━━━━━━━━━━━━━━\u001b[0m\u001b[37m\u001b[0m \u001b[1m3s\u001b[0m 4ms/step - loss: 4331796480.0000 - mae: 47186.5898 - val_loss: 4453859328.0000 - val_mae: 47657.8516\n",
            "Epoch 26/50\n",
            "\u001b[1m516/516\u001b[0m \u001b[32m━━━━━━━━━━━━━━━━━━━━\u001b[0m\u001b[37m\u001b[0m \u001b[1m2s\u001b[0m 3ms/step - loss: 4399428608.0000 - mae: 46962.3867 - val_loss: 4440283648.0000 - val_mae: 47594.0156\n",
            "Epoch 27/50\n",
            "\u001b[1m516/516\u001b[0m \u001b[32m━━━━━━━━━━━━━━━━━━━━\u001b[0m\u001b[37m\u001b[0m \u001b[1m3s\u001b[0m 3ms/step - loss: 4353838592.0000 - mae: 47262.2500 - val_loss: 4435463168.0000 - val_mae: 47603.2617\n",
            "Epoch 28/50\n",
            "\u001b[1m516/516\u001b[0m \u001b[32m━━━━━━━━━━━━━━━━━━━━\u001b[0m\u001b[37m\u001b[0m \u001b[1m3s\u001b[0m 3ms/step - loss: 4427579392.0000 - mae: 47283.9531 - val_loss: 4432267776.0000 - val_mae: 47370.9492\n",
            "Epoch 29/50\n",
            "\u001b[1m516/516\u001b[0m \u001b[32m━━━━━━━━━━━━━━━━━━━━\u001b[0m\u001b[37m\u001b[0m \u001b[1m2s\u001b[0m 3ms/step - loss: 4421712896.0000 - mae: 47116.9688 - val_loss: 4423661568.0000 - val_mae: 47256.4609\n",
            "Epoch 30/50\n",
            "\u001b[1m516/516\u001b[0m \u001b[32m━━━━━━━━━━━━━━━━━━━━\u001b[0m\u001b[37m\u001b[0m \u001b[1m2s\u001b[0m 3ms/step - loss: 4370421760.0000 - mae: 46908.5703 - val_loss: 4418163712.0000 - val_mae: 47533.8438\n",
            "Epoch 31/50\n",
            "\u001b[1m516/516\u001b[0m \u001b[32m━━━━━━━━━━━━━━━━━━━━\u001b[0m\u001b[37m\u001b[0m \u001b[1m2s\u001b[0m 3ms/step - loss: 4335559168.0000 - mae: 46773.0234 - val_loss: 4412707840.0000 - val_mae: 47498.0820\n",
            "Epoch 32/50\n",
            "\u001b[1m516/516\u001b[0m \u001b[32m━━━━━━━━━━━━━━━━━━━━\u001b[0m\u001b[37m\u001b[0m \u001b[1m2s\u001b[0m 3ms/step - loss: 4428518912.0000 - mae: 47207.1719 - val_loss: 4403371008.0000 - val_mae: 47148.7773\n",
            "Epoch 33/50\n",
            "\u001b[1m516/516\u001b[0m \u001b[32m━━━━━━━━━━━━━━━━━━━━\u001b[0m\u001b[37m\u001b[0m \u001b[1m1s\u001b[0m 3ms/step - loss: 4224041216.0000 - mae: 46527.5859 - val_loss: 4401616384.0000 - val_mae: 47053.9648\n",
            "Epoch 34/50\n",
            "\u001b[1m516/516\u001b[0m \u001b[32m━━━━━━━━━━━━━━━━━━━━\u001b[0m\u001b[37m\u001b[0m \u001b[1m2s\u001b[0m 3ms/step - loss: 4319877632.0000 - mae: 46789.8086 - val_loss: 4393165312.0000 - val_mae: 47027.1992\n",
            "Epoch 35/50\n",
            "\u001b[1m516/516\u001b[0m \u001b[32m━━━━━━━━━━━━━━━━━━━━\u001b[0m\u001b[37m\u001b[0m \u001b[1m3s\u001b[0m 3ms/step - loss: 4313117184.0000 - mae: 46503.6992 - val_loss: 4398969856.0000 - val_mae: 47341.7188\n",
            "Epoch 36/50\n",
            "\u001b[1m516/516\u001b[0m \u001b[32m━━━━━━━━━━━━━━━━━━━━\u001b[0m\u001b[37m\u001b[0m \u001b[1m2s\u001b[0m 4ms/step - loss: 4280729600.0000 - mae: 46764.0078 - val_loss: 4383731200.0000 - val_mae: 46986.4258\n",
            "Epoch 37/50\n",
            "\u001b[1m516/516\u001b[0m \u001b[32m━━━━━━━━━━━━━━━━━━━━\u001b[0m\u001b[37m\u001b[0m \u001b[1m2s\u001b[0m 3ms/step - loss: 4256673024.0000 - mae: 46248.4062 - val_loss: 4372482560.0000 - val_mae: 46986.5430\n",
            "Epoch 38/50\n",
            "\u001b[1m516/516\u001b[0m \u001b[32m━━━━━━━━━━━━━━━━━━━━\u001b[0m\u001b[37m\u001b[0m \u001b[1m1s\u001b[0m 2ms/step - loss: 4150669312.0000 - mae: 45919.2734 - val_loss: 4371139072.0000 - val_mae: 47068.4609\n",
            "Epoch 39/50\n",
            "\u001b[1m516/516\u001b[0m \u001b[32m━━━━━━━━━━━━━━━━━━━━\u001b[0m\u001b[37m\u001b[0m \u001b[1m1s\u001b[0m 3ms/step - loss: 4254241280.0000 - mae: 46234.5430 - val_loss: 4373589504.0000 - val_mae: 46969.2812\n",
            "Epoch 40/50\n",
            "\u001b[1m516/516\u001b[0m \u001b[32m━━━━━━━━━━━━━━━━━━━━\u001b[0m\u001b[37m\u001b[0m \u001b[1m2s\u001b[0m 2ms/step - loss: 4131940096.0000 - mae: 45626.3164 - val_loss: 4371066368.0000 - val_mae: 46771.5352\n",
            "Epoch 41/50\n",
            "\u001b[1m516/516\u001b[0m \u001b[32m━━━━━━━━━━━━━━━━━━━━\u001b[0m\u001b[37m\u001b[0m \u001b[1m1s\u001b[0m 2ms/step - loss: 4276327168.0000 - mae: 46378.8320 - val_loss: 4359147520.0000 - val_mae: 47011.7969\n",
            "Epoch 42/50\n",
            "\u001b[1m516/516\u001b[0m \u001b[32m━━━━━━━━━━━━━━━━━━━━\u001b[0m\u001b[37m\u001b[0m \u001b[1m1s\u001b[0m 2ms/step - loss: 4131991808.0000 - mae: 45915.3398 - val_loss: 4360252928.0000 - val_mae: 46759.6250\n",
            "Epoch 43/50\n",
            "\u001b[1m516/516\u001b[0m \u001b[32m━━━━━━━━━━━━━━━━━━━━\u001b[0m\u001b[37m\u001b[0m \u001b[1m1s\u001b[0m 3ms/step - loss: 4274207488.0000 - mae: 46309.8477 - val_loss: 4370859520.0000 - val_mae: 46849.7070\n",
            "Epoch 44/50\n",
            "\u001b[1m516/516\u001b[0m \u001b[32m━━━━━━━━━━━━━━━━━━━━\u001b[0m\u001b[37m\u001b[0m \u001b[1m3s\u001b[0m 3ms/step - loss: 4250381056.0000 - mae: 46107.1602 - val_loss: 4352330752.0000 - val_mae: 46421.7930\n",
            "Epoch 45/50\n",
            "\u001b[1m516/516\u001b[0m \u001b[32m━━━━━━━━━━━━━━━━━━━━\u001b[0m\u001b[37m\u001b[0m \u001b[1m1s\u001b[0m 2ms/step - loss: 4225474304.0000 - mae: 46076.2227 - val_loss: 4337788928.0000 - val_mae: 46544.6133\n",
            "Epoch 46/50\n",
            "\u001b[1m516/516\u001b[0m \u001b[32m━━━━━━━━━━━━━━━━━━━━\u001b[0m\u001b[37m\u001b[0m \u001b[1m1s\u001b[0m 2ms/step - loss: 4236717056.0000 - mae: 45980.5703 - val_loss: 4340803584.0000 - val_mae: 46616.7344\n",
            "Epoch 47/50\n",
            "\u001b[1m516/516\u001b[0m \u001b[32m━━━━━━━━━━━━━━━━━━━━\u001b[0m\u001b[37m\u001b[0m \u001b[1m1s\u001b[0m 2ms/step - loss: 4225222144.0000 - mae: 45833.3555 - val_loss: 4327579136.0000 - val_mae: 46783.5586\n",
            "Epoch 48/50\n",
            "\u001b[1m516/516\u001b[0m \u001b[32m━━━━━━━━━━━━━━━━━━━━\u001b[0m\u001b[37m\u001b[0m \u001b[1m3s\u001b[0m 3ms/step - loss: 4507445760.0000 - mae: 46867.5469 - val_loss: 4340862464.0000 - val_mae: 46670.6797\n",
            "Epoch 49/50\n",
            "\u001b[1m516/516\u001b[0m \u001b[32m━━━━━━━━━━━━━━━━━━━━\u001b[0m\u001b[37m\u001b[0m \u001b[1m3s\u001b[0m 3ms/step - loss: 4181673984.0000 - mae: 45871.9844 - val_loss: 4344292864.0000 - val_mae: 46341.8984\n",
            "Epoch 50/50\n",
            "\u001b[1m516/516\u001b[0m \u001b[32m━━━━━━━━━━━━━━━━━━━━\u001b[0m\u001b[37m\u001b[0m \u001b[1m3s\u001b[0m 3ms/step - loss: 4210920448.0000 - mae: 46123.3555 - val_loss: 4314433536.0000 - val_mae: 46525.6211\n",
            "\n",
            "--- Treinamento Concluído! ---\n"
          ]
        }
      ]
    },
    {
      "cell_type": "code",
      "source": [
        "# --- PASSO 3.4: AVALIAÇÃO E VISUALIZAÇÃO DOS RESULTADOS (REGRESSÃO) ---\n",
        "\n",
        "# --- 1. Avaliar o modelo nos dados de teste ---\n",
        "# O método .evaluate retorna a perda (loss, que é o MSE) e as métricas (MAE).\n",
        "loss_h, mae_h = model_keras_h.evaluate(X_test_h_scaled, y_test_h, verbose=0)\n",
        "\n",
        "# O RMSE é a raiz quadrada do MSE (loss)\n",
        "rmse_h = np.sqrt(loss_h)\n",
        "\n",
        "print(\"--- Desempenho Final do Modelo Keras de Regressão ---\")\n",
        "print(f\"Erro Médio Absoluto (MAE) no conjunto de teste: ${mae_h:,.2f}\")\n",
        "print(f\"Raiz do Erro Quadrático Médio (RMSE) no conjunto de teste: ${rmse_h:,.2f}\")\n",
        "\n",
        "\n",
        "# --- 2. Visualizar o histórico de treinamento ---\n",
        "history_df_h = pd.DataFrame(history_h.history)\n",
        "\n",
        "plt.figure(figsize=(14, 6))\n",
        "\n",
        "# Gráfico de Perda (MSE)\n",
        "plt.subplot(1, 2, 1)\n",
        "plt.plot(history_df_h['loss'], label='Perda de Treino (MSE)')\n",
        "plt.plot(history_df_h['val_loss'], label='Perda de Validação (MSE)')\n",
        "plt.title('Histórico de Perda (MSE)')\n",
        "plt.xlabel('Épocas')\n",
        "plt.ylabel('MSE')\n",
        "plt.legend()\n",
        "plt.grid(True)\n",
        "\n",
        "# Gráfico de Erro Médio Absoluto (MAE)\n",
        "plt.subplot(1, 2, 2)\n",
        "plt.plot(history_df_h['mae'], label='Erro de Treino (MAE)')\n",
        "plt.plot(history_df_h['val_mae'], label='Erro de Validação (MAE)')\n",
        "plt.title('Histórico de Erro Médio Absoluto (MAE)')\n",
        "plt.xlabel('Épocas')\n",
        "plt.ylabel('MAE ($)')\n",
        "plt.legend()\n",
        "plt.grid(True)\n",
        "\n",
        "plt.tight_layout()\n",
        "plt.show()"
      ],
      "metadata": {
        "colab": {
          "base_uri": "https://localhost:8080/",
          "height": 659
        },
        "id": "DlxRjS-05TCx",
        "outputId": "203e8dbf-389f-452b-cc35-d031c233c67c"
      },
      "execution_count": 10,
      "outputs": [
        {
          "output_type": "stream",
          "name": "stdout",
          "text": [
            "--- Desempenho Final do Modelo Keras de Regressão ---\n",
            "Erro Médio Absoluto (MAE) no conjunto de teste: $46,525.62\n",
            "Raiz do Erro Quadrático Médio (RMSE) no conjunto de teste: $65,684.35\n"
          ]
        },
        {
          "output_type": "display_data",
          "data": {
            "text/plain": [
              "<Figure size 1400x600 with 2 Axes>"
            ],
            "image/png": "[encoded data removed]"
          },
          "metadata": {}
        }
      ]
    },
    {
      "cell_type": "markdown",
      "source": [
        "## Análise do Treinamento da Rede Neural (Exercício 2)\n",
        "\n",
        "A rede neural para regressão foi treinada por 50 épocas. A análise dos gráficos de histórico de Perda (MSE) e Erro Médio Absoluto (MAE) revela um processo de treinamento estável e bem-sucedido.\n",
        "\n",
        "O erro do modelo, tanto no conjunto de treino quanto no de validação, diminuiu drasticamente nas primeiras 15 épocas e continuou a reduzir de forma mais gradual até o final. O ponto mais relevante da análise é a grande proximidade entre as curvas de treino e de validação. Isso indica uma excelente capacidade de generalização do modelo, que não apresentou sinais significativos de overfitting. O conhecimento adquirido com os dados de treino foi eficientemente transferido para prever os preços em dados não vistos.\n",
        "\n",
        "\n"
      ],
      "metadata": {
        "id": "8x7KzQov5TT1"
      }
    },
    {
      "cell_type": "code",
      "source": [
        "# --- PASSO 3.5: TREINAR E AVALIAR O MODELO SCIKIT-LEARN (REGRESSÃO) ---\n",
        "\n",
        "# --- 1. Criar o modelo RandomForestRegressor ---\n",
        "# n_estimators=100 é um bom valor padrão.\n",
        "# random_state=42 para reprodutibilidade.\n",
        "rf_reg_model = RandomForestRegressor(n_estimators=100, random_state=42)\n",
        "\n",
        "\n",
        "# --- 2. Treinar o modelo ---\n",
        "# Usamos os dados originais, NÃO os padronizados (scaled).\n",
        "print(\"--- Iniciando o Treinamento do RandomForestRegressor ---\")\n",
        "rf_reg_model.fit(X_train_h, y_train_h)\n",
        "print(\"--- Treinamento Concluído! ---\")\n",
        "\n",
        "\n",
        "# --- 3. Fazer previsões no conjunto de teste ---\n",
        "y_pred_rf_h = rf_reg_model.predict(X_test_h)\n",
        "\n",
        "\n",
        "# --- 4. Avaliar o erro do modelo ---\n",
        "# Calculamos tanto o MAE quanto o RMSE para uma comparação completa.\n",
        "mae_rf_h = mean_absolute_error(y_test_h, y_pred_rf_h)\n",
        "rmse_rf_h = np.sqrt(mean_squared_error(y_test_h, y_pred_rf_h))\n",
        "\n",
        "\n",
        "print(\"\\n--- Desempenho Final do Modelo RandomForest (Regressão) ---\")\n",
        "print(f\"Erro Médio Absoluto (MAE) no conjunto de teste: ${mae_rf_h:,.2f}\")\n",
        "print(f\"Raiz do Erro Quadrático Médio (RMSE) no conjunto de teste: ${rmse_rf_h:,.2f}\")"
      ],
      "metadata": {
        "colab": {
          "base_uri": "https://localhost:8080/"
        },
        "id": "4UICF9jL7aEz",
        "outputId": "9655582c-d2b1-4c2a-81c0-1a16e1361bc2"
      },
      "execution_count": 11,
      "outputs": [
        {
          "output_type": "stream",
          "name": "stdout",
          "text": [
            "--- Iniciando o Treinamento do RandomForestRegressor ---\n",
            "--- Treinamento Concluído! ---\n",
            "\n",
            "--- Desempenho Final do Modelo RandomForest (Regressão) ---\n",
            "Erro Médio Absoluto (MAE) no conjunto de teste: $31,971.65\n",
            "Raiz do Erro Quadrático Médio (RMSE) no conjunto de teste: $49,754.23\n"
          ]
        }
      ]
    },
    {
      "cell_type": "markdown",
      "source": [
        "Discussão dos Resultados (Exercício 2)\n",
        "\n",
        "Para a tarefa de regressão de previsão dos preços de imóveis no dataset da Califórnia, foram comparados uma Rede Neural (Keras) e um modelo RandomForestRegressor (Scikit-learn).\n",
        "\n",
        "As métricas de erro mostraram um vencedor claro. O RandomForestRegressor alcançou um Erro Médio Absoluto (MAE) de $31,971.65.\n",
        "\n",
        "Enquanto a Rede Neural obteve um MAE de aproximadamente $46,525.62.\n",
        "\n",
        "Isso indica que o modelo de Random Forest foi significativamente mais preciso, com um erro médio de previsão quase $15.000 inferior.\n",
        "\n",
        "Além da performance superior, o RandomForestRegressor também se provou uma solução mais eficiente, com menor complexidade de código, sem necessidade de pré-processamento de scaling e com tempo de treinamento muito inferior. A Rede Neural, por sua vez, apresentou um bom processo de aprendizado sem sinais de overfitting, mas não foi capaz de atingir o mesmo nível de precisão do modelo clássico de Machine Learning.\n",
        "\n",
        "Conclusão: Para este dataset tabular de regressão, o RandomForestRegressor demonstrou ser o modelo superior tanto em performance (menor erro) quanto em eficiência de implementação."
      ],
      "metadata": {
        "id": "v-julOAp2fdS"
      }
    }
  ]
}